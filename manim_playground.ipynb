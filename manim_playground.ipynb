{
 "cells": [
  {
   "cell_type": "code",
   "execution_count": 11,
   "outputs": [],
   "source": [
    "from math import pi\n",
    "from manim import *\n",
    "\n",
    "import sys\n",
    "import mpmath\n",
    "from sympy import diff, symbols, lambdify"
   ],
   "metadata": {
    "collapsed": false,
    "ExecuteTime": {
     "start_time": "2023-04-08T12:47:17.119637Z",
     "end_time": "2023-04-08T12:47:17.160690Z"
    }
   }
  },
  {
   "cell_type": "code",
   "execution_count": 12,
   "outputs": [],
   "source": [
    "class CirclePlane:\n",
    "    def __init__(self, r):\n",
    "        self.radius = r\n",
    "        self.circumference = 2*r*pi\n",
    "\n",
    "        self.circle = Circle(r)\n",
    "\n"
   ],
   "metadata": {
    "collapsed": false,
    "ExecuteTime": {
     "start_time": "2023-04-08T12:47:48.063571Z",
     "end_time": "2023-04-08T12:47:48.110391Z"
    }
   }
  },
  {
   "cell_type": "code",
   "execution_count": 6,
   "outputs": [],
   "source": [
    "class RotationalMotion:\n",
    "    def __init__(self, plane, s_func):\n",
    "        x = symbols('x')\n",
    "        expr_of_s_func = s_func(x)\n",
    "\n",
    "\n",
    "        self.plane = plane\n",
    "\n",
    "        self.expr_of_distance_travelled = expr_of_s_func\n",
    "        self.expr_of_speed = diff(expr_of_s_func, x)\n",
    "        self.expr_of_acceleration = diff(self.expr_of_speed)\n",
    "\n",
    "        self.func_of_distance_travelled = s_func\n",
    "        self.func_of_speed = lambdify(x, diff(expr_of_s_func, x))\n",
    "        self.func_of_acceleration = lambdify(x, diff(self.expr_of_speed))\n"
   ],
   "metadata": {
    "collapsed": false,
    "ExecuteTime": {
     "start_time": "2023-04-08T11:04:13.254424Z",
     "end_time": "2023-04-08T11:04:13.341530Z"
    }
   }
  },
  {
   "cell_type": "code",
   "execution_count": 14,
   "outputs": [
    {
     "name": "stdout",
     "output_type": "stream",
     "text": [
      "2 12.566370614359172 <bound method Mobject.center of Circle>\n"
     ]
    }
   ],
   "source": [
    "plane = CirclePlane(2)\n",
    "\n",
    "print(plane.radius, plane.circumference, plane.circle.center)"
   ],
   "metadata": {
    "collapsed": false,
    "ExecuteTime": {
     "start_time": "2023-04-08T12:48:21.871865Z",
     "end_time": "2023-04-08T12:48:21.882458Z"
    }
   }
  },
  {
   "cell_type": "code",
   "execution_count": 10,
   "outputs": [
    {
     "name": "stdout",
     "output_type": "stream",
     "text": [
      "2\n"
     ]
    }
   ],
   "source": [
    "situation = RotationalMotion(plane, lambda x: x**2)\n",
    "print(situation.func_of_acceleration(5))\n"
   ],
   "metadata": {
    "collapsed": false,
    "ExecuteTime": {
     "start_time": "2023-04-08T11:04:52.794365Z",
     "end_time": "2023-04-08T11:04:52.868649Z"
    }
   }
  }
 ],
 "metadata": {
  "kernelspec": {
   "display_name": "Python 3",
   "language": "python",
   "name": "python3"
  },
  "language_info": {
   "codemirror_mode": {
    "name": "ipython",
    "version": 2
   },
   "file_extension": ".py",
   "mimetype": "text/x-python",
   "name": "python",
   "nbconvert_exporter": "python",
   "pygments_lexer": "ipython2",
   "version": "2.7.6"
  }
 },
 "nbformat": 4,
 "nbformat_minor": 0
}
